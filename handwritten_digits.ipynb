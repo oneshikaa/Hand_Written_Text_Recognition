{
 "cells": [
  {
   "cell_type": "code",
   "execution_count": 6,
   "id": "cedc2516",
   "metadata": {},
   "outputs": [],
   "source": [
    
   ]
  },
  {
   "cell_type": "code",
   "execution_count": 7,
   "id": "40b85cff",
   "metadata": {},
   "outputs": [],
   "source": [
    "import numpy as np #used for numeric interpretation\n",
    "import pandas as pd #for data frame creation\n",
    "import matplotlib.pyplot as plt # for plotting graphs\n",
    "import seaborn as sns # for data distribution"
   ]
  },
  {
   "cell_type": "code",
   "execution_count": 8,
   "id": "c825b006",
   "metadata": {},
   "outputs": [],
   "source": [
    "data = pd.read_csv(\"train.csv\")"
   ]
  },
  {
   "cell_type": "code",
   "execution_count": 9,
   "id": "22e9aab0",
   "metadata": {},
   "outputs": [
    {
     "data": {
      "text/html": [
       "<div>\n",
       "<style scoped>\n",
       "    .dataframe tbody tr th:only-of-type {\n",
       "        vertical-align: middle;\n",
       "    }\n",
       "\n",
       "    .dataframe tbody tr th {\n",
       "        vertical-align: top;\n",
       "    }\n",
       "\n",
       "    .dataframe thead th {\n",
       "        text-align: right;\n",
       "    }\n",
       "</style>\n",
       "<table border=\"1\" class=\"dataframe\">\n",
       "  <thead>\n",
       "    <tr style=\"text-align: right;\">\n",
       "      <th></th>\n",
       "      <th>label</th>\n",
       "      <th>1x1</th>\n",
       "      <th>1x2</th>\n",
       "      <th>1x3</th>\n",
       "      <th>1x4</th>\n",
       "      <th>1x5</th>\n",
       "      <th>1x6</th>\n",
       "      <th>1x7</th>\n",
       "      <th>1x8</th>\n",
       "      <th>1x9</th>\n",
       "      <th>...</th>\n",
       "      <th>28x19</th>\n",
       "      <th>28x20</th>\n",
       "      <th>28x21</th>\n",
       "      <th>28x22</th>\n",
       "      <th>28x23</th>\n",
       "      <th>28x24</th>\n",
       "      <th>28x25</th>\n",
       "      <th>28x26</th>\n",
       "      <th>28x27</th>\n",
       "      <th>28x28</th>\n",
       "    </tr>\n",
       "  </thead>\n",
       "  <tbody>\n",
       "    <tr>\n",
       "      <th>0</th>\n",
       "      <td>1</td>\n",
       "      <td>0</td>\n",
       "      <td>0</td>\n",
       "      <td>0</td>\n",
       "      <td>0</td>\n",
       "      <td>0</td>\n",
       "      <td>0</td>\n",
       "      <td>0</td>\n",
       "      <td>0</td>\n",
       "      <td>0</td>\n",
       "      <td>...</td>\n",
       "      <td>0</td>\n",
       "      <td>0</td>\n",
       "      <td>0</td>\n",
       "      <td>0</td>\n",
       "      <td>0</td>\n",
       "      <td>0</td>\n",
       "      <td>0</td>\n",
       "      <td>0</td>\n",
       "      <td>0</td>\n",
       "      <td>0</td>\n",
       "    </tr>\n",
       "    <tr>\n",
       "      <th>1</th>\n",
       "      <td>0</td>\n",
       "      <td>0</td>\n",
       "      <td>0</td>\n",
       "      <td>0</td>\n",
       "      <td>0</td>\n",
       "      <td>0</td>\n",
       "      <td>0</td>\n",
       "      <td>0</td>\n",
       "      <td>0</td>\n",
       "      <td>0</td>\n",
       "      <td>...</td>\n",
       "      <td>0</td>\n",
       "      <td>0</td>\n",
       "      <td>0</td>\n",
       "      <td>0</td>\n",
       "      <td>0</td>\n",
       "      <td>0</td>\n",
       "      <td>0</td>\n",
       "      <td>0</td>\n",
       "      <td>0</td>\n",
       "      <td>0</td>\n",
       "    </tr>\n",
       "    <tr>\n",
       "      <th>2</th>\n",
       "      <td>1</td>\n",
       "      <td>0</td>\n",
       "      <td>0</td>\n",
       "      <td>0</td>\n",
       "      <td>0</td>\n",
       "      <td>0</td>\n",
       "      <td>0</td>\n",
       "      <td>0</td>\n",
       "      <td>0</td>\n",
       "      <td>0</td>\n",
       "      <td>...</td>\n",
       "      <td>0</td>\n",
       "      <td>0</td>\n",
       "      <td>0</td>\n",
       "      <td>0</td>\n",
       "      <td>0</td>\n",
       "      <td>0</td>\n",
       "      <td>0</td>\n",
       "      <td>0</td>\n",
       "      <td>0</td>\n",
       "      <td>0</td>\n",
       "    </tr>\n",
       "    <tr>\n",
       "      <th>3</th>\n",
       "      <td>4</td>\n",
       "      <td>0</td>\n",
       "      <td>0</td>\n",
       "      <td>0</td>\n",
       "      <td>0</td>\n",
       "      <td>0</td>\n",
       "      <td>0</td>\n",
       "      <td>0</td>\n",
       "      <td>0</td>\n",
       "      <td>0</td>\n",
       "      <td>...</td>\n",
       "      <td>0</td>\n",
       "      <td>0</td>\n",
       "      <td>0</td>\n",
       "      <td>0</td>\n",
       "      <td>0</td>\n",
       "      <td>0</td>\n",
       "      <td>0</td>\n",
       "      <td>0</td>\n",
       "      <td>0</td>\n",
       "      <td>0</td>\n",
       "    </tr>\n",
       "    <tr>\n",
       "      <th>4</th>\n",
       "      <td>0</td>\n",
       "      <td>0</td>\n",
       "      <td>0</td>\n",
       "      <td>0</td>\n",
       "      <td>0</td>\n",
       "      <td>0</td>\n",
       "      <td>0</td>\n",
       "      <td>0</td>\n",
       "      <td>0</td>\n",
       "      <td>0</td>\n",
       "      <td>...</td>\n",
       "      <td>0</td>\n",
       "      <td>0</td>\n",
       "      <td>0</td>\n",
       "      <td>0</td>\n",
       "      <td>0</td>\n",
       "      <td>0</td>\n",
       "      <td>0</td>\n",
       "      <td>0</td>\n",
       "      <td>0</td>\n",
       "      <td>0</td>\n",
       "    </tr>\n",
       "    <tr>\n",
       "      <th>5</th>\n",
       "      <td>0</td>\n",
       "      <td>0</td>\n",
       "      <td>0</td>\n",
       "      <td>0</td>\n",
       "      <td>0</td>\n",
       "      <td>0</td>\n",
       "      <td>0</td>\n",
       "      <td>0</td>\n",
       "      <td>0</td>\n",
       "      <td>0</td>\n",
       "      <td>...</td>\n",
       "      <td>0</td>\n",
       "      <td>0</td>\n",
       "      <td>0</td>\n",
       "      <td>0</td>\n",
       "      <td>0</td>\n",
       "      <td>0</td>\n",
       "      <td>0</td>\n",
       "      <td>0</td>\n",
       "      <td>0</td>\n",
       "      <td>0</td>\n",
       "    </tr>\n",
       "    <tr>\n",
       "      <th>6</th>\n",
       "      <td>7</td>\n",
       "      <td>0</td>\n",
       "      <td>0</td>\n",
       "      <td>0</td>\n",
       "      <td>0</td>\n",
       "      <td>0</td>\n",
       "      <td>0</td>\n",
       "      <td>0</td>\n",
       "      <td>0</td>\n",
       "      <td>0</td>\n",
       "      <td>...</td>\n",
       "      <td>0</td>\n",
       "      <td>0</td>\n",
       "      <td>0</td>\n",
       "      <td>0</td>\n",
       "      <td>0</td>\n",
       "      <td>0</td>\n",
       "      <td>0</td>\n",
       "      <td>0</td>\n",
       "      <td>0</td>\n",
       "      <td>0</td>\n",
       "    </tr>\n",
       "  </tbody>\n",
       "</table>\n",
       "<p>7 rows × 785 columns</p>\n",
       "</div>"
      ],
      "text/plain": [
       "   label  1x1  1x2  1x3  1x4  1x5  1x6  1x7  1x8  1x9  ...  28x19  28x20   \n",
       "0      1    0    0    0    0    0    0    0    0    0  ...      0      0  \\\n",
       "1      0    0    0    0    0    0    0    0    0    0  ...      0      0   \n",
       "2      1    0    0    0    0    0    0    0    0    0  ...      0      0   \n",
       "3      4    0    0    0    0    0    0    0    0    0  ...      0      0   \n",
       "4      0    0    0    0    0    0    0    0    0    0  ...      0      0   \n",
       "5      0    0    0    0    0    0    0    0    0    0  ...      0      0   \n",
       "6      7    0    0    0    0    0    0    0    0    0  ...      0      0   \n",
       "\n",
       "   28x21  28x22  28x23  28x24  28x25  28x26  28x27  28x28  \n",
       "0      0      0      0      0      0      0      0      0  \n",
       "1      0      0      0      0      0      0      0      0  \n",
       "2      0      0      0      0      0      0      0      0  \n",
       "3      0      0      0      0      0      0      0      0  \n",
       "4      0      0      0      0      0      0      0      0  \n",
       "5      0      0      0      0      0      0      0      0  \n",
       "6      0      0      0      0      0      0      0      0  \n",
       "\n",
       "[7 rows x 785 columns]"
      ]
     },
     "execution_count": 9,
     "metadata": {},
     "output_type": "execute_result"
    }
   ],
   "source": [
    "data.head(7) #shows dimensions and shape of data"
   ]
  },
  {
   "cell_type": "code",
   "execution_count": 10,
   "id": "a320e4de",
   "metadata": {},
   "outputs": [
    {
     "data": {
      "text/plain": [
       "(42000, 785)"
      ]
     },
     "execution_count": 10,
     "metadata": {},
     "output_type": "execute_result"
    }
   ],
   "source": [
    "data.shape # dimensions of data , 42000 is number of instances in the result"
   ]
  },
  {
   "cell_type": "code",
   "execution_count": 11,
   "id": "bf2175a5",
   "metadata": {},
   "outputs": [],
   "source": [
    "y = data[\"label\"] # for data prep for model building , y as label\n",
    "x = data.drop(\"label\", axis=1) # removes row number 1 , x as features"
   ]
  },
  {
   "cell_type": "code",
   "execution_count": 12,
   "id": "e1bc9274",
   "metadata": {},
   "outputs": [
    {
     "data": {
      "text/plain": [
       "pandas.core.frame.DataFrame"
      ]
     },
     "execution_count": 12,
     "metadata": {},
     "output_type": "execute_result"
    }
   ],
   "source": [
    "type(x) # x belongs to data frame"
   ]
  },
  {
   "cell_type": "code",
   "execution_count": 13,
   "id": "567b3a6b",
   "metadata": {},
   "outputs": [
    {
     "name": "stdout",
     "output_type": "stream",
     "text": [
      "The digit is :  1\n"
     ]
    },
    {
     "data": {
      "image/png": "[encoded data removed]",
      "text/plain": [
       "<Figure size 700x700 with 1 Axes>"
      ]
     },
     "metadata": {},
     "output_type": "display_data"
    }
   ],
   "source": [
    "# Plotting\n",
    "plt.figure(figsize=(7,7))\n",
    "digit = 15 # we check for 15th instance\n",
    "image = x.iloc[digit].to_numpy()\n",
    "plt.imshow(np.reshape(image, (28,28))) # 28 x 28 bit\n",
    "print(\"The digit is : \", y[digit])"
   ]
  },
  {
   "cell_type": "code",
   "execution_count": 14,
   "id": "66cf582b",
   "metadata": {},
   "outputs": [
    {
     "data": {
      "text/plain": [
       "<Axes: xlabel='label', ylabel='count'>"
      ]
     },
     "execution_count": 14,
     "metadata": {},
     "output_type": "execute_result"
    },
    {
     "data": {
      "image/png": "[encoded data removed]",
      "text/plain": [
       "<Figure size 640x480 with 1 Axes>"
      ]
     },
     "metadata": {},
     "output_type": "display_data"
    }
   ],
   "source": [
    "# data visualization\n",
    "sns.countplot(x='label', data=data) # we use data variable to store dataframe \"data\"\n",
    "# we have 4000 images for each class\n",
    "# we see our data is pretty much balanced"
   ]
  },
  {
   "cell_type": "code",
   "execution_count": 15,
   "id": "8442b814",
   "metadata": {},
   "outputs": [
    {
     "data": {
      "text/plain": [
       "((29400, 784), (29400,), (12600, 784), (12600,))"
      ]
     },
     "execution_count": 15,
     "metadata": {},
     "output_type": "execute_result"
    }
   ],
   "source": [
    "# trainig on the train data set from here\n",
    "# splittng of data set in train and test to check model\n",
    "# for validatoin purpose we use test data\n",
    "from sklearn.model_selection import  train_test_split\n",
    "x_train, x_test, y_train, y_test = train_test_split(x,y,test_size=0.30, random_state=40)\n",
    "#30 % data is used for test purpose and 70% data is used for train purpose\n",
    "x_train.shape, y_train.shape, x_test.shape, y_test.shape"
   ]
  },
  {
   "cell_type": "code",
   "execution_count": 16,
   "id": "25245af2",
   "metadata": {},
   "outputs": [
    {
     "data": {
      "text/html": [
       "<style>#sk-container-id-1 {color: black;background-color: white;}#sk-container-id-1 pre{padding: 0;}#sk-container-id-1 div.sk-toggleable {background-color: white;}#sk-container-id-1 label.sk-toggleable__label {cursor: pointer;display: block;width: 100%;margin-bottom: 0;padding: 0.3em;box-sizing: border-box;text-align: center;}#sk-container-id-1 label.sk-toggleable__label-arrow:before {content: \"▸\";float: left;margin-right: 0.25em;color: #696969;}#sk-container-id-1 label.sk-toggleable__label-arrow:hover:before {color: black;}#sk-container-id-1 div.sk-estimator:hover label.sk-toggleable__label-arrow:before {color: black;}#sk-container-id-1 div.sk-toggleable__content {max-height: 0;max-width: 0;overflow: hidden;text-align: left;background-color: #f0f8ff;}#sk-container-id-1 div.sk-toggleable__content pre {margin: 0.2em;color: black;border-radius: 0.25em;background-color: #f0f8ff;}#sk-container-id-1 input.sk-toggleable__control:checked~div.sk-toggleable__content {max-height: 200px;max-width: 100%;overflow: auto;}#sk-container-id-1 input.sk-toggleable__control:checked~label.sk-toggleable__label-arrow:before {content: \"▾\";}#sk-container-id-1 div.sk-estimator input.sk-toggleable__control:checked~label.sk-toggleable__label {background-color: #d4ebff;}#sk-container-id-1 div.sk-label input.sk-toggleable__control:checked~label.sk-toggleable__label {background-color: #d4ebff;}#sk-container-id-1 input.sk-hidden--visually {border: 0;clip: rect(1px 1px 1px 1px);clip: rect(1px, 1px, 1px, 1px);height: 1px;margin: -1px;overflow: hidden;padding: 0;position: absolute;width: 1px;}#sk-container-id-1 div.sk-estimator {font-family: monospace;background-color: #f0f8ff;border: 1px dotted black;border-radius: 0.25em;box-sizing: border-box;margin-bottom: 0.5em;}#sk-container-id-1 div.sk-estimator:hover {background-color: #d4ebff;}#sk-container-id-1 div.sk-parallel-item::after {content: \"\";width: 100%;border-bottom: 1px solid gray;flex-grow: 1;}#sk-container-id-1 div.sk-label:hover label.sk-toggleable__label {background-color: #d4ebff;}#sk-container-id-1 div.sk-serial::before {content: \"\";position: absolute;border-left: 1px solid gray;box-sizing: border-box;top: 0;bottom: 0;left: 50%;z-index: 0;}#sk-container-id-1 div.sk-serial {display: flex;flex-direction: column;align-items: center;background-color: white;padding-right: 0.2em;padding-left: 0.2em;position: relative;}#sk-container-id-1 div.sk-item {position: relative;z-index: 1;}#sk-container-id-1 div.sk-parallel {display: flex;align-items: stretch;justify-content: center;background-color: white;position: relative;}#sk-container-id-1 div.sk-item::before, #sk-container-id-1 div.sk-parallel-item::before {content: \"\";position: absolute;border-left: 1px solid gray;box-sizing: border-box;top: 0;bottom: 0;left: 50%;z-index: -1;}#sk-container-id-1 div.sk-parallel-item {display: flex;flex-direction: column;z-index: 1;position: relative;background-color: white;}#sk-container-id-1 div.sk-parallel-item:first-child::after {align-self: flex-end;width: 50%;}#sk-container-id-1 div.sk-parallel-item:last-child::after {align-self: flex-start;width: 50%;}#sk-container-id-1 div.sk-parallel-item:only-child::after {width: 0;}#sk-container-id-1 div.sk-dashed-wrapped {border: 1px dashed gray;margin: 0 0.4em 0.5em 0.4em;box-sizing: border-box;padding-bottom: 0.4em;background-color: white;}#sk-container-id-1 div.sk-label label {font-family: monospace;font-weight: bold;display: inline-block;line-height: 1.2em;}#sk-container-id-1 div.sk-label-container {text-align: center;}#sk-container-id-1 div.sk-container {/* jupyter's `normalize.less` sets `[hidden] { display: none; }` but bootstrap.min.css set `[hidden] { display: none !important; }` so we also need the `!important` here to be able to override the default hidden behavior on the sphinx rendered scikit-learn.org. See: https://github.com/scikit-learn/scikit-learn/issues/21755 */display: inline-block !important;position: relative;}#sk-container-id-1 div.sk-text-repr-fallback {display: none;}</style><div id=\"sk-container-id-1\" class=\"sk-top-container\"><div class=\"sk-text-repr-fallback\"><pre>KNeighborsClassifier(n_neighbors=3)</pre><b>In a Jupyter environment, please rerun this cell to show the HTML representation or trust the notebook. <br />On GitHub, the HTML representation is unable to render, please try loading this page with nbviewer.org.</b></div><div class=\"sk-container\" hidden><div class=\"sk-item\"><div class=\"sk-estimator sk-toggleable\"><input class=\"sk-toggleable__control sk-hidden--visually\" id=\"sk-estimator-id-1\" type=\"checkbox\" checked><label for=\"sk-estimator-id-1\" class=\"sk-toggleable__label sk-toggleable__label-arrow\">KNeighborsClassifier</label><div class=\"sk-toggleable__content\"><pre>KNeighborsClassifier(n_neighbors=3)</pre></div></div></div></div></div>"
      ],
      "text/plain": [
       "KNeighborsClassifier(n_neighbors=3)"
      ]
     },
     "execution_count": 16,
     "metadata": {},
     "output_type": "execute_result"
    }
   ],
   "source": [
    "# For K = 3\n",
    "from sklearn.neighbors import KNeighborsClassifier\n",
    "classifier_3 = KNeighborsClassifier(n_neighbors=3)\n",
    "classifier_3.fit(x, y) # for training the model"
   ]
  },
  {
   "cell_type": "code",
   "execution_count": 17,
   "id": "fc524877",
   "metadata": {},
   "outputs": [
    {
     "data": {
      "text/plain": [
       "((42000, 784), (42000,))"
      ]
     },
     "execution_count": 17,
     "metadata": {},
     "output_type": "execute_result"
    }
   ],
   "source": [
    "test_data = pd.read_csv('test.csv')\n",
    "test_data.shape\n",
    "y_test = test_data[\"label\"]\n",
    "x_test = test_data.drop(\"label\", axis=1)\n",
    "x.shape, y.shape"
   ]
  },
  {
   "cell_type": "code",
   "execution_count": 18,
   "id": "b3fea2d4",
   "metadata": {},
   "outputs": [
    {
     "data": {
      "text/plain": [
       "array([7, 2, 1, ..., 4, 5, 6], dtype=int64)"
      ]
     },
     "execution_count": 18,
     "metadata": {},
     "output_type": "execute_result"
    }
   ],
   "source": [
    "pred = classifier_3.predict(x_test)\n",
    "pred"
   ]
  },
  {
   "cell_type": "code",
   "execution_count": null,
   "id": "2d8dc54c",
   "metadata": {},
   "outputs": [
    {
     "name": "stdout",
     "output_type": "stream",
     "text": [
      "0.9824603174603175\n"
     ]
    }
   ],
   "source": [
    "# Measuring metrics\n",
    "from sklearn.metrics import accuracy_score, classification_report, confusion_matrix\n",
    "print(accuracy_score(y_test, pred))"
   ]
  },
  {
   "cell_type": "code",
   "execution_count": null,
   "id": "3da8e609",
   "metadata": {},
   "outputs": [
    {
     "name": "stdout",
     "output_type": "stream",
     "text": [
      "              precision    recall  f1-score   support\n",
      "\n",
      "           0       0.99      1.00      0.99      1236\n",
      "           1       0.98      1.00      0.99      1370\n",
      "           2       0.99      0.99      0.99      1252\n",
      "           3       0.98      0.98      0.98      1369\n",
      "           4       0.98      0.98      0.98      1215\n",
      "           5       0.98      0.98      0.98      1132\n",
      "           6       0.99      0.99      0.99      1216\n",
      "           7       0.98      0.98      0.98      1326\n",
      "           8       0.99      0.96      0.98      1197\n",
      "           9       0.97      0.97      0.97      1287\n",
      "\n",
      "    accuracy                           0.98     12600\n",
      "   macro avg       0.98      0.98      0.98     12600\n",
      "weighted avg       0.98      0.98      0.98     12600\n",
      "\n"
     ]
    }
   ],
   "source": [
    "# classification report\n",
    "print(classification_report(y_test, pred))"
   ]
  },
  {
   "cell_type": "code",
   "execution_count": null,
   "id": "67316290",
   "metadata": {},
   "outputs": [
    {
     "name": "stdout",
     "output_type": "stream",
     "text": [
      "[[ 972    1    2    0    0    1    3    1    0    0]\n",
      " [   0 1133    1    0    0    0    1    0    0    0]\n",
      " [  10    9  992    2    1    0    1   12    5    0]\n",
      " [   2    3    3  985    1    8    0    6    1    1]\n",
      " [   0    9    0    0  948    0    4    2    1   18]\n",
      " [   6    1    0   16    3  856    6    1    2    1]\n",
      " [   5    3    0    0    1    2  947    0    0    0]\n",
      " [   0   22    3    0    3    0    0  987    0   13]\n",
      " [   3    4    6   16    7   15    2    5  911    5]\n",
      " [   3    5    4    8    8    3    1    8    1  968]]\n"
     ]
    }
   ],
   "source": [
    "# confusion matrix for n = 3\n",
    "print(confusion_matrix(y_test, pred))"
   ]
  },
  {
   "cell_type": "code",
   "execution_count": null,
   "id": "a668d8e8",
   "metadata": {},
   "outputs": [
    {
     "data": {
      "text/html": [
       "<style>#sk-container-id-2 {color: black;background-color: white;}#sk-container-id-2 pre{padding: 0;}#sk-container-id-2 div.sk-toggleable {background-color: white;}#sk-container-id-2 label.sk-toggleable__label {cursor: pointer;display: block;width: 100%;margin-bottom: 0;padding: 0.3em;box-sizing: border-box;text-align: center;}#sk-container-id-2 label.sk-toggleable__label-arrow:before {content: \"▸\";float: left;margin-right: 0.25em;color: #696969;}#sk-container-id-2 label.sk-toggleable__label-arrow:hover:before {color: black;}#sk-container-id-2 div.sk-estimator:hover label.sk-toggleable__label-arrow:before {color: black;}#sk-container-id-2 div.sk-toggleable__content {max-height: 0;max-width: 0;overflow: hidden;text-align: left;background-color: #f0f8ff;}#sk-container-id-2 div.sk-toggleable__content pre {margin: 0.2em;color: black;border-radius: 0.25em;background-color: #f0f8ff;}#sk-container-id-2 input.sk-toggleable__control:checked~div.sk-toggleable__content {max-height: 200px;max-width: 100%;overflow: auto;}#sk-container-id-2 input.sk-toggleable__control:checked~label.sk-toggleable__label-arrow:before {content: \"▾\";}#sk-container-id-2 div.sk-estimator input.sk-toggleable__control:checked~label.sk-toggleable__label {background-color: #d4ebff;}#sk-container-id-2 div.sk-label input.sk-toggleable__control:checked~label.sk-toggleable__label {background-color: #d4ebff;}#sk-container-id-2 input.sk-hidden--visually {border: 0;clip: rect(1px 1px 1px 1px);clip: rect(1px, 1px, 1px, 1px);height: 1px;margin: -1px;overflow: hidden;padding: 0;position: absolute;width: 1px;}#sk-container-id-2 div.sk-estimator {font-family: monospace;background-color: #f0f8ff;border: 1px dotted black;border-radius: 0.25em;box-sizing: border-box;margin-bottom: 0.5em;}#sk-container-id-2 div.sk-estimator:hover {background-color: #d4ebff;}#sk-container-id-2 div.sk-parallel-item::after {content: \"\";width: 100%;border-bottom: 1px solid gray;flex-grow: 1;}#sk-container-id-2 div.sk-label:hover label.sk-toggleable__label {background-color: #d4ebff;}#sk-container-id-2 div.sk-serial::before {content: \"\";position: absolute;border-left: 1px solid gray;box-sizing: border-box;top: 0;bottom: 0;left: 50%;z-index: 0;}#sk-container-id-2 div.sk-serial {display: flex;flex-direction: column;align-items: center;background-color: white;padding-right: 0.2em;padding-left: 0.2em;position: relative;}#sk-container-id-2 div.sk-item {position: relative;z-index: 1;}#sk-container-id-2 div.sk-parallel {display: flex;align-items: stretch;justify-content: center;background-color: white;position: relative;}#sk-container-id-2 div.sk-item::before, #sk-container-id-2 div.sk-parallel-item::before {content: \"\";position: absolute;border-left: 1px solid gray;box-sizing: border-box;top: 0;bottom: 0;left: 50%;z-index: -1;}#sk-container-id-2 div.sk-parallel-item {display: flex;flex-direction: column;z-index: 1;position: relative;background-color: white;}#sk-container-id-2 div.sk-parallel-item:first-child::after {align-self: flex-end;width: 50%;}#sk-container-id-2 div.sk-parallel-item:last-child::after {align-self: flex-start;width: 50%;}#sk-container-id-2 div.sk-parallel-item:only-child::after {width: 0;}#sk-container-id-2 div.sk-dashed-wrapped {border: 1px dashed gray;margin: 0 0.4em 0.5em 0.4em;box-sizing: border-box;padding-bottom: 0.4em;background-color: white;}#sk-container-id-2 div.sk-label label {font-family: monospace;font-weight: bold;display: inline-block;line-height: 1.2em;}#sk-container-id-2 div.sk-label-container {text-align: center;}#sk-container-id-2 div.sk-container {/* jupyter's `normalize.less` sets `[hidden] { display: none; }` but bootstrap.min.css set `[hidden] { display: none !important; }` so we also need the `!important` here to be able to override the default hidden behavior on the sphinx rendered scikit-learn.org. See: https://github.com/scikit-learn/scikit-learn/issues/21755 */display: inline-block !important;position: relative;}#sk-container-id-2 div.sk-text-repr-fallback {display: none;}</style><div id=\"sk-container-id-2\" class=\"sk-top-container\"><div class=\"sk-text-repr-fallback\"><pre>KNeighborsClassifier(n_neighbors=4)</pre><b>In a Jupyter environment, please rerun this cell to show the HTML representation or trust the notebook. <br />On GitHub, the HTML representation is unable to render, please try loading this page with nbviewer.org.</b></div><div class=\"sk-container\" hidden><div class=\"sk-item\"><div class=\"sk-estimator sk-toggleable\"><input class=\"sk-toggleable__control sk-hidden--visually\" id=\"sk-estimator-id-2\" type=\"checkbox\" checked><label for=\"sk-estimator-id-2\" class=\"sk-toggleable__label sk-toggleable__label-arrow\">KNeighborsClassifier</label><div class=\"sk-toggleable__content\"><pre>KNeighborsClassifier(n_neighbors=4)</pre></div></div></div></div></div>"
      ],
      "text/plain": [
       "KNeighborsClassifier(n_neighbors=4)"
      ]
     },
     "execution_count": 28,
     "metadata": {},
     "output_type": "execute_result"
    }
   ],
   "source": [
    "classifier_4 = KNeighborsClassifier(n_neighbors = 4)\n",
    "classifier_4.fit(x,y)"
   ]
  },
  {
   "cell_type": "raw",
   "id": "b524dea2",
   "metadata": {},
   "source": []
  },
  {
   "cell_type": "code",
   "execution_count": null,
   "id": "a2fe7616",
   "metadata": {},
   "outputs": [
    {
     "name": "stdout",
     "output_type": "stream",
     "text": [
      "Accuracy Score:  0.9785714285714285\n",
      "Classification report:                precision    recall  f1-score   support\n",
      "\n",
      "           0       0.98      1.00      0.99      1236\n",
      "           1       0.97      1.00      0.98      1370\n",
      "           2       0.99      0.98      0.98      1252\n",
      "           3       0.97      0.98      0.98      1369\n",
      "           4       0.97      0.98      0.98      1215\n",
      "           5       0.98      0.97      0.97      1132\n",
      "           6       0.99      0.99      0.99      1216\n",
      "           7       0.97      0.98      0.97      1326\n",
      "           8       0.99      0.95      0.97      1197\n",
      "           9       0.98      0.95      0.96      1287\n",
      "\n",
      "    accuracy                           0.98     12600\n",
      "   macro avg       0.98      0.98      0.98     12600\n",
      "weighted avg       0.98      0.98      0.98     12600\n",
      "\n",
      "Confusion Matrix:  [[1231    0    2    0    0    1    2    0    0    0]\n",
      " [   0 1368    0    0    0    0    0    0    1    1]\n",
      " [   3    4 1229    1    0    0    0   11    1    3]\n",
      " [   0    1    7 1347    0    3    0    6    2    3]\n",
      " [   1   10    0    0 1194    0    2    1    0    7]\n",
      " [   3    0    0   14    0 1102    9    1    0    3]\n",
      " [   7    1    0    0    1    4 1203    0    0    0]\n",
      " [   0   17    4    0    1    0    0 1295    0    9]\n",
      " [   2    6    5   13    8   17    3    3 1135    5]\n",
      " [   6    3    0    9   21    3    0   17    2 1226]]\n"
     ]
    }
   ],
   "source": [
    "# n = 4\n",
    "preds = classifier_4.predict(x_test)\n",
    "print(\"Accuracy Score: \", accuracy_score(y_test, preds))\n",
    "print(\"Classification report: \", classification_report(y_test, preds))\n",
    "print(\"Confusion Matrix: \", confusion_matrix(y_test, preds))"
   ]
  },
  {
   "cell_type": "code",
   "execution_count": null,
   "id": "95b4bede",
   "metadata": {},
   "outputs": [
    {
     "name": "stdout",
     "output_type": "stream",
     "text": [
      "Accuracy Score:  0.9753968253968254\n",
      "Classification report:                precision    recall  f1-score   support\n",
      "\n",
      "           0       0.98      0.99      0.99      1236\n",
      "           1       0.96      1.00      0.98      1370\n",
      "           2       0.99      0.97      0.98      1252\n",
      "           3       0.98      0.98      0.98      1369\n",
      "           4       0.98      0.97      0.98      1215\n",
      "           5       0.97      0.97      0.97      1132\n",
      "           6       0.98      0.99      0.99      1216\n",
      "           7       0.96      0.97      0.97      1326\n",
      "           8       0.99      0.95      0.97      1197\n",
      "           9       0.96      0.96      0.96      1287\n",
      "\n",
      "    accuracy                           0.98     12600\n",
      "   macro avg       0.98      0.98      0.98     12600\n",
      "weighted avg       0.98      0.98      0.98     12600\n",
      "\n",
      "Confusion Matrix:  [[1229    0    2    0    0    1    3    1    0    0]\n",
      " [   0 1365    0    0    0    0    1    2    1    1]\n",
      " [   4    8 1213    1    1    0    1   21    1    2]\n",
      " [   1    4    4 1335    0   11    0    7    4    3]\n",
      " [   1   11    0    0 1182    0    3    1    0   17]\n",
      " [   3    2    0   12    0 1096   12    1    1    5]\n",
      " [   5    1    0    0    1    4 1205    0    0    0]\n",
      " [   1   16    3    0    1    0    0 1289    0   16]\n",
      " [   5    5    4    9    8   17    2    3 1135    9]\n",
      " [   5    5    1    5   11    5    0   11    3 1241]]\n"
     ]
    }
   ],
   "source": [
    "# n = 7, Optimal\n",
    "classifier_7 = KNeighborsClassifier(n_neighbors = 7)\n",
    "classifier_7.fit(x,y)\n",
    "preds = classifier_7.predict(x_test)\n",
    "print(\"Accuracy Score: \", accuracy_score(y_test, preds))\n",
    "print(\"Classification report: \", classification_report(y_test, preds))\n",
    "print(\"Confusion Matrix: \", confusion_matrix(y_test, preds))"
   ]
  },
  {
   "cell_type": "code",
   "execution_count": null,
   "id": "eef619c1",
   "metadata": {},
   "outputs": [
    {
     "name": "stdout",
     "output_type": "stream",
     "text": [
      "Accuracy Score:  0.9697619047619047\n",
      "Classification report:                precision    recall  f1-score   support\n",
      "\n",
      "           0       0.98      0.99      0.98      1236\n",
      "           1       0.95      1.00      0.97      1370\n",
      "           2       0.99      0.96      0.97      1252\n",
      "           3       0.97      0.97      0.97      1369\n",
      "           4       0.98      0.97      0.98      1215\n",
      "           5       0.97      0.96      0.96      1132\n",
      "           6       0.97      0.99      0.98      1216\n",
      "           7       0.96      0.97      0.96      1326\n",
      "           8       0.99      0.94      0.96      1197\n",
      "           9       0.95      0.95      0.95      1287\n",
      "\n",
      "    accuracy                           0.97     12600\n",
      "   macro avg       0.97      0.97      0.97     12600\n",
      "weighted avg       0.97      0.97      0.97     12600\n",
      "\n",
      "Confusion Matrix:  [[1225    0    2    0    0    1    7    1    0    0]\n",
      " [   0 1364    1    0    0    0    1    2    1    1]\n",
      " [   4    9 1201    2    0    0    3   28    3    2]\n",
      " [   1    6    4 1327    0   14    0    8    5    4]\n",
      " [   1   11    0    0 1178    0    3    1    0   21]\n",
      " [   3    3    0   13    0 1090   14    0    1    8]\n",
      " [   6    2    0    0    1    5 1201    0    1    0]\n",
      " [   1   21    3    0    0    0    0 1286    0   15]\n",
      " [   7    8    4   12    7   16    5    4 1123   11]\n",
      " [   7    7    2   11   14    2    0   16    4 1224]]\n"
     ]
    }
   ],
   "source": [
    "# n = 11\n",
    "classifier_11 = KNeighborsClassifier(n_neighbors = 11)\n",
    "classifier_11.fit(x,y)\n",
    "preds = classifier_11.predict(x_test)\n",
    "print(\"Accuracy Score: \", accuracy_score(y_test, preds))\n",
    "print(\"Classification report: \", classification_report(y_test, preds))\n",
    "print(\"Confusion Matrix: \", confusion_matrix(y_test, preds))"
   ]
  },
  {
   "cell_type": "code",
   "execution_count": null,
   "id": "4bd9bdb8",
   "metadata": {},
   "outputs": [
    {
     "name": "stdout",
     "output_type": "stream",
     "text": [
      "Accuracy Score:  0.9502\n",
      "Classification report:                precision    recall  f1-score   support\n",
      "\n",
      "           0       0.95      0.99      0.97       980\n",
      "           1       0.89      1.00      0.94      1135\n",
      "           2       0.99      0.90      0.94      1032\n",
      "           3       0.95      0.96      0.96      1010\n",
      "           4       0.97      0.94      0.96       982\n",
      "           5       0.96      0.95      0.95       892\n",
      "           6       0.96      0.98      0.97       958\n",
      "           7       0.94      0.94      0.94      1028\n",
      "           8       0.98      0.90      0.94       974\n",
      "           9       0.93      0.95      0.94      1009\n",
      "\n",
      "    accuracy                           0.95     10000\n",
      "   macro avg       0.95      0.95      0.95     10000\n",
      "weighted avg       0.95      0.95      0.95     10000\n",
      "\n",
      "Confusion Matrix:  [[ 968    1    1    0    0    2    7    1    0    0]\n",
      " [   0 1131    2    1    0    0    1    0    0    0]\n",
      " [  21   34  926    7    2    1    4   28    9    0]\n",
      " [   0    6    3  971    1   10    1   10    5    3]\n",
      " [   0   18    0    0  923    0    9    1    2   29]\n",
      " [   3    9    0   12    1  845   12    2    0    8]\n",
      " [   7    8    0    0    2    2  939    0    0    0]\n",
      " [   0   40    2    0    2    0    0  964    0   20]\n",
      " [   9   10    3   20   12   18    5    8  878   11]\n",
      " [   8   10    3    7    7    3    1   13    0  957]]\n"
     ]
    }
   ],
   "source": [
    "# n = 50 Overfitting\n",
    "classifier_50 = KNeighborsClassifier(n_neighbors = 54)\n",
    "classifier_50.fit(x,y)\n",
    "preds = classifier_50.predict(x_test)\n",
    "print(\"Accuracy Score: \", accuracy_score(y_test, preds))\n",
    "print(\"Classification report: \", classification_report(y_test, preds))\n",
    "print(\"Confusion Matrix: \", confusion_matrix(y_test, preds))"
   ]
  },
  {
   "cell_type": "code",
   "execution_count": null,
   "id": "03bca0ea",
   "metadata": {},
   "outputs": [
    {
     "name": "stdout",
     "output_type": "stream",
     "text": [
      "Accuracy Score:  0.9758730158730159\n",
      "Classification report:                precision    recall  f1-score   support\n",
      "\n",
      "           0       0.98      1.00      0.99      1236\n",
      "           1       0.96      1.00      0.98      1370\n",
      "           2       0.99      0.97      0.98      1252\n",
      "           3       0.97      0.98      0.97      1369\n",
      "           4       0.98      0.98      0.98      1215\n",
      "           5       0.97      0.97      0.97      1132\n",
      "           6       0.99      0.99      0.99      1216\n",
      "           7       0.97      0.97      0.97      1326\n",
      "           8       0.99      0.95      0.97      1197\n",
      "           9       0.97      0.96      0.96      1287\n",
      "\n",
      "    accuracy                           0.98     12600\n",
      "   macro avg       0.98      0.98      0.98     12600\n",
      "weighted avg       0.98      0.98      0.98     12600\n",
      "\n",
      "Confusion Matrix:  [[1230    0    2    0    0    1    3    0    0    0]\n",
      " [   0 1366    0    0    0    0    1    1    1    1]\n",
      " [   4    8 1219    1    0    0    1   17    0    2]\n",
      " [   1    4    5 1338    0    9    0    6    4    2]\n",
      " [   1   12    0    0 1185    0    3    1    0   13]\n",
      " [   3    1    0   18    0 1097    7    1    1    4]\n",
      " [   6    1    0    0    1    4 1204    0    0    0]\n",
      " [   1   16    3    0    3    0    0 1292    0   11]\n",
      " [   3    7    5   14    7   15    3    3 1132    8]\n",
      " [   5    3    1    8   15    4    0   14    4 1233]]\n"
     ]
    }
   ],
   "source": [
    "# n = 6,  n=3 is best for our dataset\n",
    "classifier_6 = KNeighborsClassifier(n_neighbors = 6)\n",
    "classifier_6.fit(x,y)\n",
    "preds = classifier_6.predict(x_test)\n",
    "print(\"Accuracy Score: \", accuracy_score(y_test, preds))\n",
    "print(\"Classification report: \", classification_report(y_test, preds))\n",
    "print(\"Confusion Matrix: \", confusion_matrix(y_test, preds))"
   ]
  },
  {
   "cell_type": "code",
   "execution_count": null,
   "id": "e665c571",
   "metadata": {},
   "outputs": [],
   "source": [
    "# 3NN Classification : 98.24% accuracy"
   ]
  }
 ],
 "metadata": {
  "kernelspec": {
   "display_name": "Python 3 (ipykernel)",
   "language": "python",
   "name": "python3"
  },
  "language_info": {
   "codemirror_mode": {
    "name": "ipython",
    "version": 3
   },
   "file_extension": ".py",
   "mimetype": "text/x-python",
   "name": "python",
   "nbconvert_exporter": "python",
   "pygments_lexer": "ipython3",
   "version": "3.10.5"
  }
 },
 "nbformat": 4,
 "nbformat_minor": 5
}
